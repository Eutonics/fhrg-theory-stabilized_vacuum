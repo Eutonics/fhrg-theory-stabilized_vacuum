# notebooks/Figure_3.ipynb
# [Jupyter Notebook for Figure 3: w(z)]
import numpy as np
import matplotlib.pyplot as plt
from core.potentials import FHRGPotential
from core.cosmology import FHRGCosmology

# Load cosmology results
data = np.load('cosmology_results.npz')
z = data['z']
w = data['w']

# Plot equation of state
plt.figure(figsize=(8, 6))
plt.plot(z, w, 'b-', linewidth=2.5)
plt.axhline(y=-1, color='r', linestyle='--', alpha=0.7)
plt.xlabel('Redshift (z)', fontsize=14)
plt.ylabel('Equation of State w(z)', fontsize=14)
plt.title('Dark Energy Equation of State in FHRG', fontsize=16)
plt.grid(alpha=0.2)
plt.xlim(0, 3)
plt.ylim(-1.02, -0.99)
plt.savefig('figure_3.png', dpi=300)
plt.show()