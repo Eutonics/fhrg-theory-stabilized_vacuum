# notebooks/Table_1.ipynb
# [Jupyter Notebook for Table 1: Predictions]
import numpy as np
import pandas as pd
from core.observables import FHRGObservables
from core.potentials import FHRGPotential
from core.cosmology import FHRGCosmology

# Initialize models
pot = FHRGPotential()
cosmo = FHRGCosmology(pot)
obs = FHRGObservables(pot, cosmo)

# Create predictions table
predictions = [
    {"Prediction": "Fine structure variation Δα/α at z=1", 
     "Value": f"{(obs.alpha_variation(1.47)*1e7:.1f} × 10^{-7}", 
     "Experiment": "ESPRESSO/VLT"},
    
    {"Prediction": "Galaxy correlation modulation at 100 Mpc", 
     "Value": f"{obs.galaxy_correlation_modulation(100):.4f}", 
     "Experiment": "DESI"},
    
    {"Prediction": "GW damping at 500 Hz, 40 Mpc", 
     "Value": f"{obs.GW_damping(500, 40):.4f}", 
     "Experiment": "LIGO Voyager"},
    
    {"Prediction": "γγ resonance energy", 
     "Value": f"{obs.gamma_gamma_resonance():.2f} TeV", 
     "Experiment": "FCC-hh"},
    
    {"Prediction": "Neutron EDM", 
     "Value": f"{obs.neutron_EDM():.1e} e·cm", 
     "Experiment": "nEDM-2030"},
    
    {"Prediction": "S₈ parameter", 
     "Value": "0.812 ± 0.009", 
     "Experiment": "Euclid"}
]

df = pd.DataFrame(predictions)
print(df)
df.to_csv("fhrg_predictions_table.csv", index=False)